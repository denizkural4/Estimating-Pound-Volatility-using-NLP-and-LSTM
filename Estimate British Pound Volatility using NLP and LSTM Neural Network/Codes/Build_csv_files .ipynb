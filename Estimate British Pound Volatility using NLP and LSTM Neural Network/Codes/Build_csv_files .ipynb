{
 "cells": [
  {
   "cell_type": "markdown",
   "metadata": {},
   "source": [
    "### Harvard Database about Brexit has 4 different csv containing tweets"
   ]
  },
  {
   "cell_type": "code",
   "execution_count": 11,
   "metadata": {},
   "outputs": [],
   "source": [
    "import pandas as pd\n",
    "import numpy as np"
   ]
  },
  {
   "cell_type": "markdown",
   "metadata": {},
   "source": [
    "#### Create different dataframes for different csv files"
   ]
  },
  {
   "cell_type": "code",
   "execution_count": 26,
   "metadata": {},
   "outputs": [],
   "source": [
    "RawData1 = pd.read_csv(\"./Data_Tweets/tweets_stance_sentiment_1outof4.csv\")\n",
    "RawData2 = pd.read_csv(\"./Data_Tweets/tweets_stance_sentiment_2outof4.csv\")\n",
    "RawData3 = pd.read_csv(\"./Data_Tweets/tweets_stance_sentiment_3outof4.csv\")\n",
    "RawData4 = pd.read_csv(\"./Data_Tweets/tweets_stance_sentiment_4outof4.csv\")"
   ]
  },
  {
   "cell_type": "code",
   "execution_count": 48,
   "metadata": {},
   "outputs": [],
   "source": [
    "Title = RawData1.name"
   ]
  },
  {
   "cell_type": "code",
   "execution_count": 27,
   "metadata": {},
   "outputs": [],
   "source": [
    "RawData1 = RawData1[RawData1.columns[0]]\n",
    "RawData2 = RawData2[RawData2.columns[0]]\n",
    "RawData3 = RawData3[RawData3.columns[0]]\n",
    "RawData4 = RawData4[RawData4.columns[0]]"
   ]
  },
  {
   "cell_type": "code",
   "execution_count": null,
   "metadata": {},
   "outputs": [],
   "source": [
    "print(RawData1.shape)\n",
    "print(RawData2.shape)\n",
    "print(RawData3.shape)\n",
    "print(RawData4.shape)"
   ]
  },
  {
   "cell_type": "code",
   "execution_count": 33,
   "metadata": {},
   "outputs": [],
   "source": [
    "RawData = RawData1.append(RawData2).append(RawData3).append(RawData4)\n",
    "RawData.reset_index(inplace=True, drop=True)\n",
    "RawData.name = Title"
   ]
  },
  {
   "cell_type": "code",
   "execution_count": 62,
   "metadata": {},
   "outputs": [
    {
     "data": {
      "text/plain": [
       "5089.753"
      ]
     },
     "execution_count": 62,
     "metadata": {},
     "output_type": "execute_result"
    }
   ],
   "source": [
    "RawData.shape[0] / 10000"
   ]
  },
  {
   "cell_type": "code",
   "execution_count": 36,
   "metadata": {},
   "outputs": [
    {
     "data": {
      "text/plain": [
       "array([       0,     5089,    10178, ..., 50874733, 50879822, 50884911])"
      ]
     },
     "execution_count": 36,
     "metadata": {},
     "output_type": "execute_result"
    }
   ],
   "source": [
    "Vector = np.arange(0,50890000,5089)\n",
    "Vector"
   ]
  },
  {
   "cell_type": "markdown",
   "metadata": {},
   "source": [
    "### Seperate each csv files into seperate csv files \n",
    "#### This is needed as csv has memory issues for huge amount of rows & each original csv holds upt tp 6 million tweets"
   ]
  },
  {
   "cell_type": "code",
   "execution_count": 61,
   "metadata": {},
   "outputs": [],
   "source": [
    "def CreateCsvFiles(RawData, Vector, Ntime, Start):\n",
    "    \n",
    "    for i in range(0, Ntime):\n",
    "        NewData = RawData[Vector+i+Start]\n",
    "        NewData.to_csv(\"./New_Tweets/NewData_\" + str(i + Start) + \".csv\")\n",
    "    return 0    "
   ]
  },
  {
   "cell_type": "code",
   "execution_count": null,
   "metadata": {},
   "outputs": [],
   "source": [
    "# CreateCsvFiles(RawData, Vector, 100, 0)"
   ]
  }
 ],
 "metadata": {
  "kernelspec": {
   "display_name": "Python 3",
   "language": "python",
   "name": "python3"
  },
  "language_info": {
   "codemirror_mode": {
    "name": "ipython",
    "version": 3
   },
   "file_extension": ".py",
   "mimetype": "text/x-python",
   "name": "python",
   "nbconvert_exporter": "python",
   "pygments_lexer": "ipython3",
   "version": "3.8.3"
  }
 },
 "nbformat": 4,
 "nbformat_minor": 4
}
