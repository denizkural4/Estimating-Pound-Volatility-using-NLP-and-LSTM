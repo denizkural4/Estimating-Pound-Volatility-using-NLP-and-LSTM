{
 "cells": [
  {
   "cell_type": "markdown",
   "metadata": {},
   "source": [
    "# Data"
   ]
  },
  {
   "cell_type": "code",
   "execution_count": 181,
   "metadata": {},
   "outputs": [],
   "source": [
    "import pandas as pd\n",
    "import numpy as np\n",
    "import matplotlib.pyplot as plt\n",
    "import os\n",
    "import datetime\n",
    "import tensorflow as tf\n",
    "import IPython"
   ]
  },
  {
   "cell_type": "code",
   "execution_count": 92,
   "metadata": {},
   "outputs": [],
   "source": [
    "FinanceData = pd.read_csv('daily_price.csv', parse_dates=[\"Date\"])"
   ]
  },
  {
   "cell_type": "code",
   "execution_count": 93,
   "metadata": {},
   "outputs": [],
   "source": [
    "FinanceData.set_index(\"Date\", inplace=True)"
   ]
  },
  {
   "cell_type": "code",
   "execution_count": 94,
   "metadata": {},
   "outputs": [
    {
     "data": {
      "text/html": [
       "<div>\n",
       "<style scoped>\n",
       "    .dataframe tbody tr th:only-of-type {\n",
       "        vertical-align: middle;\n",
       "    }\n",
       "\n",
       "    .dataframe tbody tr th {\n",
       "        vertical-align: top;\n",
       "    }\n",
       "\n",
       "    .dataframe thead th {\n",
       "        text-align: right;\n",
       "    }\n",
       "</style>\n",
       "<table border=\"1\" class=\"dataframe\">\n",
       "  <thead>\n",
       "    <tr style=\"text-align: right;\">\n",
       "      <th></th>\n",
       "      <th>Vol_Index</th>\n",
       "      <th>Price_Index</th>\n",
       "      <th>Returns_Index</th>\n",
       "    </tr>\n",
       "    <tr>\n",
       "      <th>Date</th>\n",
       "      <th></th>\n",
       "      <th></th>\n",
       "      <th></th>\n",
       "    </tr>\n",
       "  </thead>\n",
       "  <tbody>\n",
       "    <tr>\n",
       "      <th>2015-01-30</th>\n",
       "      <td>0.007165</td>\n",
       "      <td>99.898084</td>\n",
       "      <td>0.000013</td>\n",
       "    </tr>\n",
       "    <tr>\n",
       "      <th>2015-02-02</th>\n",
       "      <td>0.007164</td>\n",
       "      <td>99.830009</td>\n",
       "      <td>-0.000682</td>\n",
       "    </tr>\n",
       "    <tr>\n",
       "      <th>2015-02-03</th>\n",
       "      <td>0.007109</td>\n",
       "      <td>99.307921</td>\n",
       "      <td>-0.005244</td>\n",
       "    </tr>\n",
       "    <tr>\n",
       "      <th>2015-02-04</th>\n",
       "      <td>0.007065</td>\n",
       "      <td>99.534347</td>\n",
       "      <td>0.002277</td>\n",
       "    </tr>\n",
       "    <tr>\n",
       "      <th>2015-02-05</th>\n",
       "      <td>0.007072</td>\n",
       "      <td>100.198761</td>\n",
       "      <td>0.006653</td>\n",
       "    </tr>\n",
       "    <tr>\n",
       "      <th>...</th>\n",
       "      <td>...</td>\n",
       "      <td>...</td>\n",
       "      <td>...</td>\n",
       "    </tr>\n",
       "    <tr>\n",
       "      <th>2020-10-05</th>\n",
       "      <td>0.004776</td>\n",
       "      <td>88.831947</td>\n",
       "      <td>0.004238</td>\n",
       "    </tr>\n",
       "    <tr>\n",
       "      <th>2020-10-06</th>\n",
       "      <td>0.004784</td>\n",
       "      <td>88.960721</td>\n",
       "      <td>0.001449</td>\n",
       "    </tr>\n",
       "    <tr>\n",
       "      <th>2020-10-07</th>\n",
       "      <td>0.004694</td>\n",
       "      <td>88.766072</td>\n",
       "      <td>-0.002190</td>\n",
       "    </tr>\n",
       "    <tr>\n",
       "      <th>2020-10-08</th>\n",
       "      <td>0.004414</td>\n",
       "      <td>88.799948</td>\n",
       "      <td>0.000382</td>\n",
       "    </tr>\n",
       "    <tr>\n",
       "      <th>2020-10-09</th>\n",
       "      <td>0.004308</td>\n",
       "      <td>88.764393</td>\n",
       "      <td>-0.000400</td>\n",
       "    </tr>\n",
       "  </tbody>\n",
       "</table>\n",
       "<p>1463 rows × 3 columns</p>\n",
       "</div>"
      ],
      "text/plain": [
       "            Vol_Index  Price_Index  Returns_Index\n",
       "Date                                             \n",
       "2015-01-30   0.007165    99.898084       0.000013\n",
       "2015-02-02   0.007164    99.830009      -0.000682\n",
       "2015-02-03   0.007109    99.307921      -0.005244\n",
       "2015-02-04   0.007065    99.534347       0.002277\n",
       "2015-02-05   0.007072   100.198761       0.006653\n",
       "...               ...          ...            ...\n",
       "2020-10-05   0.004776    88.831947       0.004238\n",
       "2020-10-06   0.004784    88.960721       0.001449\n",
       "2020-10-07   0.004694    88.766072      -0.002190\n",
       "2020-10-08   0.004414    88.799948       0.000382\n",
       "2020-10-09   0.004308    88.764393      -0.000400\n",
       "\n",
       "[1463 rows x 3 columns]"
      ]
     },
     "execution_count": 94,
     "metadata": {},
     "output_type": "execute_result"
    }
   ],
   "source": [
    "FinanceData"
   ]
  },
  {
   "cell_type": "code",
   "execution_count": 42,
   "metadata": {},
   "outputs": [],
   "source": [
    "TweetsData = pd.read_csv('daily_sentiment_final.csv', parse_dates=[\"date\"])\n",
    "TweetsData.set_index(\"date\", inplace=True)"
   ]
  },
  {
   "cell_type": "code",
   "execution_count": 43,
   "metadata": {},
   "outputs": [
    {
     "data": {
      "text/html": [
       "<div>\n",
       "<style scoped>\n",
       "    .dataframe tbody tr th:only-of-type {\n",
       "        vertical-align: middle;\n",
       "    }\n",
       "\n",
       "    .dataframe tbody tr th {\n",
       "        vertical-align: top;\n",
       "    }\n",
       "\n",
       "    .dataframe thead th {\n",
       "        text-align: right;\n",
       "    }\n",
       "</style>\n",
       "<table border=\"1\" class=\"dataframe\">\n",
       "  <thead>\n",
       "    <tr style=\"text-align: right;\">\n",
       "      <th></th>\n",
       "      <th>neg</th>\n",
       "      <th>neu</th>\n",
       "      <th>pos</th>\n",
       "      <th>compound</th>\n",
       "      <th>compound_multiplied_scaled</th>\n",
       "      <th>volume</th>\n",
       "    </tr>\n",
       "    <tr>\n",
       "      <th>date</th>\n",
       "      <th></th>\n",
       "      <th></th>\n",
       "      <th></th>\n",
       "      <th></th>\n",
       "      <th></th>\n",
       "      <th></th>\n",
       "    </tr>\n",
       "  </thead>\n",
       "  <tbody>\n",
       "    <tr>\n",
       "      <th>2016-01-01</th>\n",
       "      <td>0.141111</td>\n",
       "      <td>0.558778</td>\n",
       "      <td>0.300000</td>\n",
       "      <td>0.243633</td>\n",
       "      <td>0.006302</td>\n",
       "      <td>9</td>\n",
       "    </tr>\n",
       "    <tr>\n",
       "      <th>2016-01-05</th>\n",
       "      <td>0.107700</td>\n",
       "      <td>0.640600</td>\n",
       "      <td>0.251700</td>\n",
       "      <td>0.245635</td>\n",
       "      <td>0.049407</td>\n",
       "      <td>20</td>\n",
       "    </tr>\n",
       "    <tr>\n",
       "      <th>2016-01-08</th>\n",
       "      <td>0.158161</td>\n",
       "      <td>0.669161</td>\n",
       "      <td>0.172710</td>\n",
       "      <td>0.027365</td>\n",
       "      <td>0.016389</td>\n",
       "      <td>31</td>\n",
       "    </tr>\n",
       "    <tr>\n",
       "      <th>2016-01-11</th>\n",
       "      <td>0.141150</td>\n",
       "      <td>0.629100</td>\n",
       "      <td>0.229700</td>\n",
       "      <td>0.146015</td>\n",
       "      <td>0.029081</td>\n",
       "      <td>20</td>\n",
       "    </tr>\n",
       "    <tr>\n",
       "      <th>2016-01-14</th>\n",
       "      <td>0.154590</td>\n",
       "      <td>0.663077</td>\n",
       "      <td>0.182308</td>\n",
       "      <td>-0.003656</td>\n",
       "      <td>-0.068832</td>\n",
       "      <td>39</td>\n",
       "    </tr>\n",
       "    <tr>\n",
       "      <th>...</th>\n",
       "      <td>...</td>\n",
       "      <td>...</td>\n",
       "      <td>...</td>\n",
       "      <td>...</td>\n",
       "      <td>...</td>\n",
       "      <td>...</td>\n",
       "    </tr>\n",
       "    <tr>\n",
       "      <th>2019-09-26</th>\n",
       "      <td>0.177599</td>\n",
       "      <td>0.634248</td>\n",
       "      <td>0.188159</td>\n",
       "      <td>0.015107</td>\n",
       "      <td>0.015525</td>\n",
       "      <td>327</td>\n",
       "    </tr>\n",
       "    <tr>\n",
       "      <th>2019-09-27</th>\n",
       "      <td>0.170419</td>\n",
       "      <td>0.633557</td>\n",
       "      <td>0.196033</td>\n",
       "      <td>0.055004</td>\n",
       "      <td>-0.005314</td>\n",
       "      <td>246</td>\n",
       "    </tr>\n",
       "    <tr>\n",
       "      <th>2019-09-28</th>\n",
       "      <td>0.165416</td>\n",
       "      <td>0.639110</td>\n",
       "      <td>0.195502</td>\n",
       "      <td>0.034502</td>\n",
       "      <td>0.004025</td>\n",
       "      <td>209</td>\n",
       "    </tr>\n",
       "    <tr>\n",
       "      <th>2019-09-29</th>\n",
       "      <td>0.179630</td>\n",
       "      <td>0.662735</td>\n",
       "      <td>0.157635</td>\n",
       "      <td>-0.016974</td>\n",
       "      <td>-0.002924</td>\n",
       "      <td>200</td>\n",
       "    </tr>\n",
       "    <tr>\n",
       "      <th>2019-09-30</th>\n",
       "      <td>0.115354</td>\n",
       "      <td>0.662557</td>\n",
       "      <td>0.222082</td>\n",
       "      <td>0.144699</td>\n",
       "      <td>0.007959</td>\n",
       "      <td>158</td>\n",
       "    </tr>\n",
       "  </tbody>\n",
       "</table>\n",
       "<p>1350 rows × 6 columns</p>\n",
       "</div>"
      ],
      "text/plain": [
       "                 neg       neu       pos  compound  \\\n",
       "date                                                 \n",
       "2016-01-01  0.141111  0.558778  0.300000  0.243633   \n",
       "2016-01-05  0.107700  0.640600  0.251700  0.245635   \n",
       "2016-01-08  0.158161  0.669161  0.172710  0.027365   \n",
       "2016-01-11  0.141150  0.629100  0.229700  0.146015   \n",
       "2016-01-14  0.154590  0.663077  0.182308 -0.003656   \n",
       "...              ...       ...       ...       ...   \n",
       "2019-09-26  0.177599  0.634248  0.188159  0.015107   \n",
       "2019-09-27  0.170419  0.633557  0.196033  0.055004   \n",
       "2019-09-28  0.165416  0.639110  0.195502  0.034502   \n",
       "2019-09-29  0.179630  0.662735  0.157635 -0.016974   \n",
       "2019-09-30  0.115354  0.662557  0.222082  0.144699   \n",
       "\n",
       "            compound_multiplied_scaled  volume  \n",
       "date                                            \n",
       "2016-01-01                    0.006302       9  \n",
       "2016-01-05                    0.049407      20  \n",
       "2016-01-08                    0.016389      31  \n",
       "2016-01-11                    0.029081      20  \n",
       "2016-01-14                   -0.068832      39  \n",
       "...                                ...     ...  \n",
       "2019-09-26                    0.015525     327  \n",
       "2019-09-27                   -0.005314     246  \n",
       "2019-09-28                    0.004025     209  \n",
       "2019-09-29                   -0.002924     200  \n",
       "2019-09-30                    0.007959     158  \n",
       "\n",
       "[1350 rows x 6 columns]"
      ]
     },
     "execution_count": 43,
     "metadata": {},
     "output_type": "execute_result"
    }
   ],
   "source": [
    "TweetsData"
   ]
  },
  {
   "cell_type": "markdown",
   "metadata": {},
   "source": [
    "## Small Features Engineering"
   ]
  },
  {
   "cell_type": "code",
   "execution_count": 230,
   "metadata": {},
   "outputs": [],
   "source": [
    "FinanceModi = FinanceData.copy()\n",
    "#FinanceModi[\"Vol_Index_5D\"] = FinanceModi[\"Returns_Index\"].rolling(5).std()\n",
    "FinanceModi[\"Vol_Index_3M\"] = FinanceModi[\"Returns_Index\"].rolling(21*3).std()\n",
    "#FinanceModi[\"Returns_5D\"] = FinanceModi[\"Returns_Index\"].rolling(5).sum()\n",
    "#FinanceModi[\"Returns_1M\"] = FinanceModi[\"Returns_Index\"].rolling(21).sum()\n",
    "#FinanceModi[\"Returns_3M\"] = FinanceModi[\"Returns_Index\"].rolling(21*3).sum()"
   ]
  },
  {
   "cell_type": "code",
   "execution_count": 231,
   "metadata": {},
   "outputs": [
    {
     "data": {
      "text/html": [
       "<div>\n",
       "<style scoped>\n",
       "    .dataframe tbody tr th:only-of-type {\n",
       "        vertical-align: middle;\n",
       "    }\n",
       "\n",
       "    .dataframe tbody tr th {\n",
       "        vertical-align: top;\n",
       "    }\n",
       "\n",
       "    .dataframe thead th {\n",
       "        text-align: right;\n",
       "    }\n",
       "</style>\n",
       "<table border=\"1\" class=\"dataframe\">\n",
       "  <thead>\n",
       "    <tr style=\"text-align: right;\">\n",
       "      <th></th>\n",
       "      <th>Vol_Index</th>\n",
       "      <th>Price_Index</th>\n",
       "      <th>Returns_Index</th>\n",
       "      <th>Vol_Index_3M</th>\n",
       "    </tr>\n",
       "    <tr>\n",
       "      <th>Date</th>\n",
       "      <th></th>\n",
       "      <th></th>\n",
       "      <th></th>\n",
       "      <th></th>\n",
       "    </tr>\n",
       "  </thead>\n",
       "  <tbody>\n",
       "    <tr>\n",
       "      <th>2015-01-30</th>\n",
       "      <td>0.007165</td>\n",
       "      <td>99.898084</td>\n",
       "      <td>0.000013</td>\n",
       "      <td>NaN</td>\n",
       "    </tr>\n",
       "    <tr>\n",
       "      <th>2015-02-02</th>\n",
       "      <td>0.007164</td>\n",
       "      <td>99.830009</td>\n",
       "      <td>-0.000682</td>\n",
       "      <td>NaN</td>\n",
       "    </tr>\n",
       "    <tr>\n",
       "      <th>2015-02-03</th>\n",
       "      <td>0.007109</td>\n",
       "      <td>99.307921</td>\n",
       "      <td>-0.005244</td>\n",
       "      <td>NaN</td>\n",
       "    </tr>\n",
       "    <tr>\n",
       "      <th>2015-02-04</th>\n",
       "      <td>0.007065</td>\n",
       "      <td>99.534347</td>\n",
       "      <td>0.002277</td>\n",
       "      <td>NaN</td>\n",
       "    </tr>\n",
       "    <tr>\n",
       "      <th>2015-02-05</th>\n",
       "      <td>0.007072</td>\n",
       "      <td>100.198761</td>\n",
       "      <td>0.006653</td>\n",
       "      <td>NaN</td>\n",
       "    </tr>\n",
       "  </tbody>\n",
       "</table>\n",
       "</div>"
      ],
      "text/plain": [
       "            Vol_Index  Price_Index  Returns_Index  Vol_Index_3M\n",
       "Date                                                           \n",
       "2015-01-30   0.007165    99.898084       0.000013           NaN\n",
       "2015-02-02   0.007164    99.830009      -0.000682           NaN\n",
       "2015-02-03   0.007109    99.307921      -0.005244           NaN\n",
       "2015-02-04   0.007065    99.534347       0.002277           NaN\n",
       "2015-02-05   0.007072   100.198761       0.006653           NaN"
      ]
     },
     "execution_count": 231,
     "metadata": {},
     "output_type": "execute_result"
    }
   ],
   "source": [
    "FinanceModi.head()"
   ]
  },
  {
   "cell_type": "code",
   "execution_count": 444,
   "metadata": {},
   "outputs": [],
   "source": [
    "TweetsModi = TweetsData.copy()\n",
    "TweetsModi[\"LogVolume\"] = np.log(TweetsModi[\"volume\"])"
   ]
  },
  {
   "cell_type": "code",
   "execution_count": 445,
   "metadata": {},
   "outputs": [
    {
     "data": {
      "text/html": [
       "<div>\n",
       "<style scoped>\n",
       "    .dataframe tbody tr th:only-of-type {\n",
       "        vertical-align: middle;\n",
       "    }\n",
       "\n",
       "    .dataframe tbody tr th {\n",
       "        vertical-align: top;\n",
       "    }\n",
       "\n",
       "    .dataframe thead th {\n",
       "        text-align: right;\n",
       "    }\n",
       "</style>\n",
       "<table border=\"1\" class=\"dataframe\">\n",
       "  <thead>\n",
       "    <tr style=\"text-align: right;\">\n",
       "      <th></th>\n",
       "      <th>neg</th>\n",
       "      <th>neu</th>\n",
       "      <th>pos</th>\n",
       "      <th>compound</th>\n",
       "      <th>compound_multiplied_scaled</th>\n",
       "      <th>volume</th>\n",
       "      <th>LogVolume</th>\n",
       "    </tr>\n",
       "    <tr>\n",
       "      <th>date</th>\n",
       "      <th></th>\n",
       "      <th></th>\n",
       "      <th></th>\n",
       "      <th></th>\n",
       "      <th></th>\n",
       "      <th></th>\n",
       "      <th></th>\n",
       "    </tr>\n",
       "  </thead>\n",
       "  <tbody>\n",
       "    <tr>\n",
       "      <th>2016-01-01</th>\n",
       "      <td>0.141111</td>\n",
       "      <td>0.558778</td>\n",
       "      <td>0.300000</td>\n",
       "      <td>0.243633</td>\n",
       "      <td>0.006302</td>\n",
       "      <td>9</td>\n",
       "      <td>2.197225</td>\n",
       "    </tr>\n",
       "    <tr>\n",
       "      <th>2016-01-05</th>\n",
       "      <td>0.107700</td>\n",
       "      <td>0.640600</td>\n",
       "      <td>0.251700</td>\n",
       "      <td>0.245635</td>\n",
       "      <td>0.049407</td>\n",
       "      <td>20</td>\n",
       "      <td>2.995732</td>\n",
       "    </tr>\n",
       "    <tr>\n",
       "      <th>2016-01-08</th>\n",
       "      <td>0.158161</td>\n",
       "      <td>0.669161</td>\n",
       "      <td>0.172710</td>\n",
       "      <td>0.027365</td>\n",
       "      <td>0.016389</td>\n",
       "      <td>31</td>\n",
       "      <td>3.433987</td>\n",
       "    </tr>\n",
       "    <tr>\n",
       "      <th>2016-01-11</th>\n",
       "      <td>0.141150</td>\n",
       "      <td>0.629100</td>\n",
       "      <td>0.229700</td>\n",
       "      <td>0.146015</td>\n",
       "      <td>0.029081</td>\n",
       "      <td>20</td>\n",
       "      <td>2.995732</td>\n",
       "    </tr>\n",
       "    <tr>\n",
       "      <th>2016-01-14</th>\n",
       "      <td>0.154590</td>\n",
       "      <td>0.663077</td>\n",
       "      <td>0.182308</td>\n",
       "      <td>-0.003656</td>\n",
       "      <td>-0.068832</td>\n",
       "      <td>39</td>\n",
       "      <td>3.663562</td>\n",
       "    </tr>\n",
       "    <tr>\n",
       "      <th>...</th>\n",
       "      <td>...</td>\n",
       "      <td>...</td>\n",
       "      <td>...</td>\n",
       "      <td>...</td>\n",
       "      <td>...</td>\n",
       "      <td>...</td>\n",
       "      <td>...</td>\n",
       "    </tr>\n",
       "    <tr>\n",
       "      <th>2019-09-26</th>\n",
       "      <td>0.177599</td>\n",
       "      <td>0.634248</td>\n",
       "      <td>0.188159</td>\n",
       "      <td>0.015107</td>\n",
       "      <td>0.015525</td>\n",
       "      <td>327</td>\n",
       "      <td>5.789960</td>\n",
       "    </tr>\n",
       "    <tr>\n",
       "      <th>2019-09-27</th>\n",
       "      <td>0.170419</td>\n",
       "      <td>0.633557</td>\n",
       "      <td>0.196033</td>\n",
       "      <td>0.055004</td>\n",
       "      <td>-0.005314</td>\n",
       "      <td>246</td>\n",
       "      <td>5.505332</td>\n",
       "    </tr>\n",
       "    <tr>\n",
       "      <th>2019-09-28</th>\n",
       "      <td>0.165416</td>\n",
       "      <td>0.639110</td>\n",
       "      <td>0.195502</td>\n",
       "      <td>0.034502</td>\n",
       "      <td>0.004025</td>\n",
       "      <td>209</td>\n",
       "      <td>5.342334</td>\n",
       "    </tr>\n",
       "    <tr>\n",
       "      <th>2019-09-29</th>\n",
       "      <td>0.179630</td>\n",
       "      <td>0.662735</td>\n",
       "      <td>0.157635</td>\n",
       "      <td>-0.016974</td>\n",
       "      <td>-0.002924</td>\n",
       "      <td>200</td>\n",
       "      <td>5.298317</td>\n",
       "    </tr>\n",
       "    <tr>\n",
       "      <th>2019-09-30</th>\n",
       "      <td>0.115354</td>\n",
       "      <td>0.662557</td>\n",
       "      <td>0.222082</td>\n",
       "      <td>0.144699</td>\n",
       "      <td>0.007959</td>\n",
       "      <td>158</td>\n",
       "      <td>5.062595</td>\n",
       "    </tr>\n",
       "  </tbody>\n",
       "</table>\n",
       "<p>1350 rows × 7 columns</p>\n",
       "</div>"
      ],
      "text/plain": [
       "                 neg       neu       pos  compound  \\\n",
       "date                                                 \n",
       "2016-01-01  0.141111  0.558778  0.300000  0.243633   \n",
       "2016-01-05  0.107700  0.640600  0.251700  0.245635   \n",
       "2016-01-08  0.158161  0.669161  0.172710  0.027365   \n",
       "2016-01-11  0.141150  0.629100  0.229700  0.146015   \n",
       "2016-01-14  0.154590  0.663077  0.182308 -0.003656   \n",
       "...              ...       ...       ...       ...   \n",
       "2019-09-26  0.177599  0.634248  0.188159  0.015107   \n",
       "2019-09-27  0.170419  0.633557  0.196033  0.055004   \n",
       "2019-09-28  0.165416  0.639110  0.195502  0.034502   \n",
       "2019-09-29  0.179630  0.662735  0.157635 -0.016974   \n",
       "2019-09-30  0.115354  0.662557  0.222082  0.144699   \n",
       "\n",
       "            compound_multiplied_scaled  volume  LogVolume  \n",
       "date                                                       \n",
       "2016-01-01                    0.006302       9   2.197225  \n",
       "2016-01-05                    0.049407      20   2.995732  \n",
       "2016-01-08                    0.016389      31   3.433987  \n",
       "2016-01-11                    0.029081      20   2.995732  \n",
       "2016-01-14                   -0.068832      39   3.663562  \n",
       "...                                ...     ...        ...  \n",
       "2019-09-26                    0.015525     327   5.789960  \n",
       "2019-09-27                   -0.005314     246   5.505332  \n",
       "2019-09-28                    0.004025     209   5.342334  \n",
       "2019-09-29                   -0.002924     200   5.298317  \n",
       "2019-09-30                    0.007959     158   5.062595  \n",
       "\n",
       "[1350 rows x 7 columns]"
      ]
     },
     "execution_count": 445,
     "metadata": {},
     "output_type": "execute_result"
    }
   ],
   "source": [
    "TweetsModi"
   ]
  },
  {
   "cell_type": "code",
   "execution_count": 447,
   "metadata": {},
   "outputs": [],
   "source": [
    "AllData = pd.merge(FinanceModi,TweetsModi, how='inner', left_index=True, right_index=True)"
   ]
  },
  {
   "cell_type": "code",
   "execution_count": 448,
   "metadata": {},
   "outputs": [
    {
     "data": {
      "text/html": [
       "<div>\n",
       "<style scoped>\n",
       "    .dataframe tbody tr th:only-of-type {\n",
       "        vertical-align: middle;\n",
       "    }\n",
       "\n",
       "    .dataframe tbody tr th {\n",
       "        vertical-align: top;\n",
       "    }\n",
       "\n",
       "    .dataframe thead th {\n",
       "        text-align: right;\n",
       "    }\n",
       "</style>\n",
       "<table border=\"1\" class=\"dataframe\">\n",
       "  <thead>\n",
       "    <tr style=\"text-align: right;\">\n",
       "      <th></th>\n",
       "      <th>Vol_Index</th>\n",
       "      <th>Price_Index</th>\n",
       "      <th>Returns_Index</th>\n",
       "      <th>Vol_Index_3M</th>\n",
       "      <th>neg</th>\n",
       "      <th>neu</th>\n",
       "      <th>pos</th>\n",
       "      <th>compound</th>\n",
       "      <th>compound_multiplied_scaled</th>\n",
       "      <th>volume</th>\n",
       "      <th>LogVolume</th>\n",
       "    </tr>\n",
       "  </thead>\n",
       "  <tbody>\n",
       "    <tr>\n",
       "      <th>2016-01-01</th>\n",
       "      <td>0.003455</td>\n",
       "      <td>103.438625</td>\n",
       "      <td>-0.001283</td>\n",
       "      <td>0.003697</td>\n",
       "      <td>0.141111</td>\n",
       "      <td>0.558778</td>\n",
       "      <td>0.300000</td>\n",
       "      <td>0.243633</td>\n",
       "      <td>0.006302</td>\n",
       "      <td>9</td>\n",
       "      <td>2.197225</td>\n",
       "    </tr>\n",
       "    <tr>\n",
       "      <th>2016-01-05</th>\n",
       "      <td>0.003565</td>\n",
       "      <td>103.653246</td>\n",
       "      <td>0.003329</td>\n",
       "      <td>0.003676</td>\n",
       "      <td>0.107700</td>\n",
       "      <td>0.640600</td>\n",
       "      <td>0.251700</td>\n",
       "      <td>0.245635</td>\n",
       "      <td>0.049407</td>\n",
       "      <td>20</td>\n",
       "      <td>2.995732</td>\n",
       "    </tr>\n",
       "    <tr>\n",
       "      <th>2016-01-08</th>\n",
       "      <td>0.003374</td>\n",
       "      <td>103.216138</td>\n",
       "      <td>-0.005101</td>\n",
       "      <td>0.003651</td>\n",
       "      <td>0.158161</td>\n",
       "      <td>0.669161</td>\n",
       "      <td>0.172710</td>\n",
       "      <td>0.027365</td>\n",
       "      <td>0.016389</td>\n",
       "      <td>31</td>\n",
       "      <td>3.433987</td>\n",
       "    </tr>\n",
       "    <tr>\n",
       "      <th>2016-01-11</th>\n",
       "      <td>0.003408</td>\n",
       "      <td>102.810526</td>\n",
       "      <td>-0.003937</td>\n",
       "      <td>0.003659</td>\n",
       "      <td>0.141150</td>\n",
       "      <td>0.629100</td>\n",
       "      <td>0.229700</td>\n",
       "      <td>0.146015</td>\n",
       "      <td>0.029081</td>\n",
       "      <td>20</td>\n",
       "      <td>2.995732</td>\n",
       "    </tr>\n",
       "    <tr>\n",
       "      <th>2016-01-14</th>\n",
       "      <td>0.003450</td>\n",
       "      <td>102.421198</td>\n",
       "      <td>-0.000774</td>\n",
       "      <td>0.003720</td>\n",
       "      <td>0.154590</td>\n",
       "      <td>0.663077</td>\n",
       "      <td>0.182308</td>\n",
       "      <td>-0.003656</td>\n",
       "      <td>-0.068832</td>\n",
       "      <td>39</td>\n",
       "      <td>3.663562</td>\n",
       "    </tr>\n",
       "  </tbody>\n",
       "</table>\n",
       "</div>"
      ],
      "text/plain": [
       "            Vol_Index  Price_Index  Returns_Index  Vol_Index_3M       neg  \\\n",
       "2016-01-01   0.003455   103.438625      -0.001283      0.003697  0.141111   \n",
       "2016-01-05   0.003565   103.653246       0.003329      0.003676  0.107700   \n",
       "2016-01-08   0.003374   103.216138      -0.005101      0.003651  0.158161   \n",
       "2016-01-11   0.003408   102.810526      -0.003937      0.003659  0.141150   \n",
       "2016-01-14   0.003450   102.421198      -0.000774      0.003720  0.154590   \n",
       "\n",
       "                 neu       pos  compound  compound_multiplied_scaled  volume  \\\n",
       "2016-01-01  0.558778  0.300000  0.243633                    0.006302       9   \n",
       "2016-01-05  0.640600  0.251700  0.245635                    0.049407      20   \n",
       "2016-01-08  0.669161  0.172710  0.027365                    0.016389      31   \n",
       "2016-01-11  0.629100  0.229700  0.146015                    0.029081      20   \n",
       "2016-01-14  0.663077  0.182308 -0.003656                   -0.068832      39   \n",
       "\n",
       "            LogVolume  \n",
       "2016-01-01   2.197225  \n",
       "2016-01-05   2.995732  \n",
       "2016-01-08   3.433987  \n",
       "2016-01-11   2.995732  \n",
       "2016-01-14   3.663562  "
      ]
     },
     "execution_count": 448,
     "metadata": {},
     "output_type": "execute_result"
    }
   ],
   "source": [
    "AllData.head()"
   ]
  },
  {
   "cell_type": "code",
   "execution_count": null,
   "metadata": {},
   "outputs": [],
   "source": []
  },
  {
   "cell_type": "markdown",
   "metadata": {},
   "source": [
    "# Transformations"
   ]
  },
  {
   "cell_type": "code",
   "execution_count": 122,
   "metadata": {},
   "outputs": [],
   "source": [
    "#WorkingData = pd.concat([AllData.shift(1), AllData[[\"Vol_Index\"]]], axis=1).dropna()\n",
    "#WorkingData.columns = WorkingData.columns[:-1].to_list() + [\"Y\"]"
   ]
  },
  {
   "cell_type": "code",
   "execution_count": 593,
   "metadata": {},
   "outputs": [],
   "source": [
    "WorkingData = AllData.copy()\n",
    "WorkingData.drop(columns=\"Price_Index\", inplace = True)\n",
    "WorkingData.drop(columns=\"Returns_Index\", inplace = True)\n",
    "WorkingData.drop(columns=\"Vol_Index_3M\", inplace = True)\n",
    "WorkingData.drop(columns=\"pos\", inplace = True)\n",
    "WorkingData.drop(columns=\"neu\", inplace = True)\n",
    "WorkingData.drop(columns=\"neg\", inplace = True)\n",
    "WorkingData.drop(columns=\"compound_multiplied_scaled\", inplace = True)\n",
    "WorkingData.drop(columns=\"volume\", inplace = True)\n",
    "WorkingData.drop(columns=\"LogVolume\", inplace = True)"
   ]
  },
  {
   "cell_type": "code",
   "execution_count": 594,
   "metadata": {},
   "outputs": [
    {
     "data": {
      "text/html": [
       "<div>\n",
       "<style scoped>\n",
       "    .dataframe tbody tr th:only-of-type {\n",
       "        vertical-align: middle;\n",
       "    }\n",
       "\n",
       "    .dataframe tbody tr th {\n",
       "        vertical-align: top;\n",
       "    }\n",
       "\n",
       "    .dataframe thead th {\n",
       "        text-align: right;\n",
       "    }\n",
       "</style>\n",
       "<table border=\"1\" class=\"dataframe\">\n",
       "  <thead>\n",
       "    <tr style=\"text-align: right;\">\n",
       "      <th></th>\n",
       "      <th>Vol_Index</th>\n",
       "      <th>compound</th>\n",
       "    </tr>\n",
       "  </thead>\n",
       "  <tbody>\n",
       "    <tr>\n",
       "      <th>2016-01-01</th>\n",
       "      <td>0.003455</td>\n",
       "      <td>0.243633</td>\n",
       "    </tr>\n",
       "    <tr>\n",
       "      <th>2016-01-05</th>\n",
       "      <td>0.003565</td>\n",
       "      <td>0.245635</td>\n",
       "    </tr>\n",
       "    <tr>\n",
       "      <th>2016-01-08</th>\n",
       "      <td>0.003374</td>\n",
       "      <td>0.027365</td>\n",
       "    </tr>\n",
       "    <tr>\n",
       "      <th>2016-01-11</th>\n",
       "      <td>0.003408</td>\n",
       "      <td>0.146015</td>\n",
       "    </tr>\n",
       "    <tr>\n",
       "      <th>2016-01-14</th>\n",
       "      <td>0.003450</td>\n",
       "      <td>-0.003656</td>\n",
       "    </tr>\n",
       "  </tbody>\n",
       "</table>\n",
       "</div>"
      ],
      "text/plain": [
       "            Vol_Index  compound\n",
       "2016-01-01   0.003455  0.243633\n",
       "2016-01-05   0.003565  0.245635\n",
       "2016-01-08   0.003374  0.027365\n",
       "2016-01-11   0.003408  0.146015\n",
       "2016-01-14   0.003450 -0.003656"
      ]
     },
     "execution_count": 594,
     "metadata": {},
     "output_type": "execute_result"
    }
   ],
   "source": [
    "WorkingData.head()"
   ]
  },
  {
   "cell_type": "code",
   "execution_count": null,
   "metadata": {},
   "outputs": [],
   "source": []
  },
  {
   "cell_type": "code",
   "execution_count": 595,
   "metadata": {},
   "outputs": [],
   "source": [
    "def ConvertData(TrainData, TrainPoints, Y):\n",
    "\n",
    "    TrainDataY = TrainData[[Y]].iloc[TrainPoints:].copy()\n",
    "\n",
    "    TrainDataX = np.zeros((TrainDataY.shape[0], TrainPoints, TrainData.shape[1]))\n",
    "\n",
    "    for i in range(0, TrainPoints):\n",
    "        \n",
    "        TrainDataX[:,TrainPoints-i-1,:] = np.array(TrainData.shift(i + 1).iloc[TrainPoints:])\n",
    "\n",
    "    return TrainDataX, TrainDataY"
   ]
  },
  {
   "cell_type": "code",
   "execution_count": 596,
   "metadata": {},
   "outputs": [],
   "source": [
    "TrainPoints = 10\n",
    "\n",
    "DataX, DataY = ConvertData(WorkingData, TrainPoints, \"Vol_Index\")"
   ]
  },
  {
   "cell_type": "code",
   "execution_count": 597,
   "metadata": {},
   "outputs": [
    {
     "data": {
      "text/plain": [
       "(938, 10, 2)"
      ]
     },
     "execution_count": 597,
     "metadata": {},
     "output_type": "execute_result"
    }
   ],
   "source": [
    "DataX.shape"
   ]
  },
  {
   "cell_type": "markdown",
   "metadata": {},
   "source": [
    "# Machine Learning"
   ]
  },
  {
   "cell_type": "code",
   "execution_count": 598,
   "metadata": {},
   "outputs": [],
   "source": [
    "from tensorflow.keras.models import Model, Sequential\n",
    "from tensorflow.keras.layers import Dense, Dropout, Flatten, LSTM, GRU, SimpleRNN\n",
    "from tensorflow.keras.callbacks import EarlyStopping, ModelCheckpoint\n",
    "\n",
    "from sklearn.metrics import confusion_matrix\n",
    "import seaborn as sns"
   ]
  },
  {
   "cell_type": "code",
   "execution_count": 599,
   "metadata": {},
   "outputs": [],
   "source": [
    "test_size = DataX.shape[0] // 10\n",
    "\n",
    "TrainDataX = DataX[:-test_size]\n",
    "TestDataX  = DataX[-test_size:]\n",
    "\n",
    "TrainDataY = DataY[:-test_size]\n",
    "TestDataY = DataY[-test_size:]"
   ]
  },
  {
   "cell_type": "code",
   "execution_count": 600,
   "metadata": {},
   "outputs": [
    {
     "data": {
      "text/plain": [
       "(845, 10, 2)"
      ]
     },
     "execution_count": 600,
     "metadata": {},
     "output_type": "execute_result"
    }
   ],
   "source": [
    "TrainDataX.shape"
   ]
  },
  {
   "cell_type": "code",
   "execution_count": 601,
   "metadata": {},
   "outputs": [],
   "source": [
    "valid_size = TrainDataX.shape[0] - (TrainDataX.shape[0] // 7)\n",
    "\n",
    "TrainX, ValidX = TrainDataX[:valid_size], TrainDataX[valid_size:]\n",
    "TrainY, ValidY = TrainDataY[:valid_size], TrainDataY[valid_size:]"
   ]
  },
  {
   "cell_type": "code",
   "execution_count": 602,
   "metadata": {},
   "outputs": [
    {
     "data": {
      "text/plain": [
       "(725, 10, 2)"
      ]
     },
     "execution_count": 602,
     "metadata": {},
     "output_type": "execute_result"
    }
   ],
   "source": [
    "TrainX.shape"
   ]
  },
  {
   "cell_type": "code",
   "execution_count": 603,
   "metadata": {},
   "outputs": [
    {
     "name": "stdout",
     "output_type": "stream",
     "text": [
      "The tensorboard extension is already loaded. To reload it, use:\n",
      "  %reload_ext tensorboard\n"
     ]
    }
   ],
   "source": [
    "%load_ext tensorboard\n",
    "\n",
    "logs_dir=\"logs/fit/\"\n",
    "os.makedirs( \".\", exist_ok=True)\n",
    "\n",
    "log_dir= os.path.join(logs_dir, datetime.datetime.now().strftime(\"%Y%m%d-%H%M%S\") )\n",
    "\n",
    "tensorboard_callback = tf.keras.callbacks.TensorBoard(log_dir=log_dir, histogram_freq=1)"
   ]
  },
  {
   "cell_type": "code",
   "execution_count": 604,
   "metadata": {},
   "outputs": [],
   "source": [
    "def plot_training(history, metrics=[]):\n",
    "    \"\"\"\n",
    "    Plot training and validation statistics\n",
    "    - accuracy vs epoch number\n",
    "    - loss     vs epoch number\n",
    "\n",
    "    From https://www.learnopencv.com/keras-tutorial-fine-tuning-using-pre-trained-models/\n",
    "    \"\"\"  \n",
    "\n",
    "    # Loss\n",
    "    loss = history.history['loss']\n",
    "\n",
    "    epochs = range(len(loss))\n",
    "\n",
    "    plt.plot(epochs, loss, 'b', label='Training loss')\n",
    "    plt.title('Training loss')\n",
    "    plt.legend()\n",
    "\n",
    "    plt.figure()\n",
    "\n",
    "    for metric in metrics:\n",
    "        metric_value = history.history[metric]\n",
    "        plt.plot(epochs, metric_value, 'b', label=\"Training \" + metric)\n",
    "        plt.title('Training  ' + metric)\n",
    "        plt.legend()\n",
    "\n",
    "    plt.show()"
   ]
  },
  {
   "cell_type": "code",
   "execution_count": null,
   "metadata": {},
   "outputs": [],
   "source": []
  },
  {
   "cell_type": "code",
   "execution_count": 605,
   "metadata": {},
   "outputs": [],
   "source": [
    "batch_size = 32\n",
    "n_epochs = 40\n",
    "ModelName = \"Model\"\n",
    "\n",
    "es_callback = EarlyStopping(monitor='val_loss', min_delta=.00000005, patience=3, verbose=0, mode='min', baseline=None, restore_best_weights=True)\n",
    "\n",
    "callbacks = [ es_callback, ModelCheckpoint(filepath=ModelName + \".ckpt\", monitor='val_loss', save_best_only=True) ]"
   ]
  },
  {
   "cell_type": "code",
   "execution_count": 627,
   "metadata": {},
   "outputs": [],
   "source": [
    "Model = Sequential([ LSTM(15, input_shape=(TrainX.shape[1], TrainX.shape[2]), return_sequences = True),\n",
    "                     LSTM(10, return_sequences = False),\n",
    "                     Dense(1)])\n",
    "\n",
    "Model.compile(optimizer='adam', loss=\"mse\", metrics=[ \"mse\" ])"
   ]
  },
  {
   "cell_type": "code",
   "execution_count": 628,
   "metadata": {},
   "outputs": [
    {
     "name": "stdout",
     "output_type": "stream",
     "text": [
      "Epoch 1/40\n",
      "23/23 [==============================] - 1s 42ms/step - loss: 1.8460e-05 - mse: 1.8460e-05 - val_loss: 5.8240e-06 - val_mse: 5.8240e-06\n",
      "Epoch 2/40\n",
      "23/23 [==============================] - 0s 11ms/step - loss: 6.8113e-06 - mse: 6.8113e-06 - val_loss: 2.0855e-06 - val_mse: 2.0855e-06\n",
      "Epoch 3/40\n",
      "23/23 [==============================] - 0s 11ms/step - loss: 5.5925e-06 - mse: 5.5925e-06 - val_loss: 1.5686e-06 - val_mse: 1.5686e-06\n",
      "Epoch 4/40\n",
      "23/23 [==============================] - 0s 11ms/step - loss: 5.0297e-06 - mse: 5.0297e-06 - val_loss: 1.4732e-06 - val_mse: 1.4732e-06\n",
      "Epoch 5/40\n",
      "23/23 [==============================] - 0s 10ms/step - loss: 4.7896e-06 - mse: 4.7896e-06 - val_loss: 1.8966e-06 - val_mse: 1.8966e-06\n",
      "Epoch 6/40\n",
      "23/23 [==============================] - 0s 10ms/step - loss: 4.5411e-06 - mse: 4.5411e-06 - val_loss: 1.3617e-06 - val_mse: 1.3617e-06\n",
      "Epoch 7/40\n",
      "23/23 [==============================] - 0s 10ms/step - loss: 4.2162e-06 - mse: 4.2162e-06 - val_loss: 1.3736e-06 - val_mse: 1.3736e-06\n",
      "Epoch 8/40\n",
      "23/23 [==============================] - 0s 10ms/step - loss: 3.6745e-06 - mse: 3.6745e-06 - val_loss: 2.5901e-06 - val_mse: 2.5901e-06\n",
      "Epoch 9/40\n",
      "23/23 [==============================] - 0s 11ms/step - loss: 3.6056e-06 - mse: 3.6056e-06 - val_loss: 1.0968e-06 - val_mse: 1.0968e-06\n",
      "Epoch 10/40\n",
      "23/23 [==============================] - 0s 11ms/step - loss: 2.6825e-06 - mse: 2.6825e-06 - val_loss: 1.2327e-06 - val_mse: 1.2327e-06\n",
      "Epoch 11/40\n",
      "23/23 [==============================] - 0s 12ms/step - loss: 2.3070e-06 - mse: 2.3070e-06 - val_loss: 9.7883e-07 - val_mse: 9.7883e-07\n",
      "Epoch 12/40\n",
      "23/23 [==============================] - 0s 12ms/step - loss: 2.1090e-06 - mse: 2.1090e-06 - val_loss: 9.3947e-07 - val_mse: 9.3947e-07\n",
      "Epoch 13/40\n",
      "23/23 [==============================] - 0s 12ms/step - loss: 2.0599e-06 - mse: 2.0599e-06 - val_loss: 1.0844e-06 - val_mse: 1.0844e-06\n",
      "Epoch 14/40\n",
      "20/23 [=========================>....] - ETA: 0s - loss: 1.4930e-06 - mse: 1.4930e-06INFO:tensorflow:Assets written to: Model.ckpt/assets\n",
      "23/23 [==============================] - 8s 360ms/step - loss: 1.5335e-06 - mse: 1.5335e-06 - val_loss: 8.8928e-07 - val_mse: 8.8928e-07\n",
      "Epoch 15/40\n",
      "23/23 [==============================] - 0s 12ms/step - loss: 1.4047e-06 - mse: 1.4047e-06 - val_loss: 8.9675e-07 - val_mse: 8.9675e-07\n",
      "Epoch 16/40\n",
      "22/23 [===========================>..] - ETA: 0s - loss: 1.6315e-06 - mse: 1.6315e-06INFO:tensorflow:Assets written to: Model.ckpt/assets\n",
      "23/23 [==============================] - 8s 357ms/step - loss: 1.6872e-06 - mse: 1.6872e-06 - val_loss: 8.5437e-07 - val_mse: 8.5437e-07\n",
      "Epoch 17/40\n",
      "23/23 [==============================] - 0s 12ms/step - loss: 1.4162e-06 - mse: 1.4162e-06 - val_loss: 9.2767e-07 - val_mse: 9.2767e-07\n"
     ]
    }
   ],
   "source": [
    "history = Model.fit(TrainX, TrainY, epochs=n_epochs, batch_size=batch_size, validation_data=(ValidX, ValidY), shuffle=True, callbacks=callbacks)"
   ]
  },
  {
   "cell_type": "code",
   "execution_count": 629,
   "metadata": {},
   "outputs": [
    {
     "data": {
      "image/png": "[encoded data removed]",
      "text/plain": [
       "<Figure size 432x288 with 1 Axes>"
      ]
     },
     "metadata": {
      "needs_background": "light"
     },
     "output_type": "display_data"
    },
    {
     "data": {
      "text/plain": [
       "<Figure size 432x288 with 0 Axes>"
      ]
     },
     "metadata": {},
     "output_type": "display_data"
    }
   ],
   "source": [
    "plot_training(history)"
   ]
  },
  {
   "cell_type": "code",
   "execution_count": 637,
   "metadata": {},
   "outputs": [
    {
     "name": "stdout",
     "output_type": "stream",
     "text": [
      "Model: \"sequential_31\"\n",
      "_________________________________________________________________\n",
      "Layer (type)                 Output Shape              Param #   \n",
      "=================================================================\n",
      "lstm_31 (LSTM)               (None, 10, 15)            1080      \n",
      "_________________________________________________________________\n",
      "lstm_32 (LSTM)               (None, 15)                1860      \n",
      "_________________________________________________________________\n",
      "dense_31 (Dense)             (None, 1)                 16        \n",
      "=================================================================\n",
      "Total params: 2,956\n",
      "Trainable params: 2,956\n",
      "Non-trainable params: 0\n",
      "_________________________________________________________________\n"
     ]
    }
   ],
   "source": [
    "Model.summary()"
   ]
  },
  {
   "cell_type": "code",
   "execution_count": 638,
   "metadata": {},
   "outputs": [
    {
     "data": {
      "image/png": "[encoded data removed]",
      "text/plain": [
       "<Figure size 720x720 with 1 Axes>"
      ]
     },
     "metadata": {
      "needs_background": "light"
     },
     "output_type": "display_data"
    }
   ],
   "source": [
    "PlotM1 = plt.figure(figsize = (10, 10))\n",
    "ax = PlotM1.add_subplot(1, 1, 1)\n",
    "ax.plot(range(0, TrainY.shape[0]), Model.predict(TrainX), range(0, TrainY.shape[0]), TrainY)\n",
    "ax.set_title('Training Data')\n",
    "ax.legend([\"Predicted Volatility\",\"Historical Volatility\"])\n",
    "plt.show()"
   ]
  },
  {
   "cell_type": "code",
   "execution_count": 639,
   "metadata": {},
   "outputs": [
    {
     "data": {
      "text/plain": [
       "<matplotlib.legend.Legend at 0x7fd50f5200a0>"
      ]
     },
     "execution_count": 639,
     "metadata": {},
     "output_type": "execute_result"
    },
    {
     "data": {
      "image/png": "[encoded data removed]",
      "text/plain": [
       "<Figure size 720x720 with 1 Axes>"
      ]
     },
     "metadata": {
      "needs_background": "light"
     },
     "output_type": "display_data"
    }
   ],
   "source": [
    "PlotM2 = plt.figure(figsize = (10, 10))\n",
    "ax = PlotM2.add_subplot(1, 1, 1)\n",
    "ax.plot(range(0, ValidY.shape[0]), Model.predict(ValidX), range(0, ValidY.shape[0]), ValidY)\n",
    "ax.set_title('Validation Data')\n",
    "ax.legend([\"Predicted Volatility\",\"Historical Volatility\"])"
   ]
  },
  {
   "cell_type": "code",
   "execution_count": 649,
   "metadata": {},
   "outputs": [],
   "source": [
    "def ConfusionMat(Actual, Prediction):\n",
    "    \n",
    "    Direction = ((Actual - Actual.shift(1))>0)*1\n",
    "    PredictY = pd.DataFrame(Prediction, columns = [\"PredictY\"])\n",
    "    Pred_Direction =  ((PredictY - PredictY.shift(1))>0)*1\n",
    "    \n",
    "    ConfMatrix = confusion_matrix(Direction, Pred_Direction)\n",
    "    \n",
    "    ConfMatrixDf = pd.DataFrame(ConfMatrix, columns=[\"Negative\", \"Positive\"], index=[\"Negative\", \"Positive\"])\n",
    "    ConfMatrixDf.columns.name = \"Actual\"\n",
    "    ConfMatrixDf.index.name = \"Predicted\"\n",
    "    \n",
    "    Fig = plt.figure(figsize = (6,6))\n",
    "    sns.heatmap((ConfMatrixDf), annot=True, fmt=\"d\", cbar=False, cmap=sns.color_palette(\"Blues\"))\n",
    "    plt.show()\n",
    "    \n",
    "    return Fig, ConfMatrixDf"
   ]
  },
  {
   "cell_type": "code",
   "execution_count": 650,
   "metadata": {},
   "outputs": [
    {
     "data": {
      "image/png": "[encoded data removed]",
      "text/plain": [
       "<Figure size 432x432 with 1 Axes>"
      ]
     },
     "metadata": {
      "needs_background": "light"
     },
     "output_type": "display_data"
    }
   ],
   "source": [
    "Fig, ConfMatrixDf = ConfusionMat(TrainY, Model.predict(TrainX))"
   ]
  },
  {
   "cell_type": "code",
   "execution_count": null,
   "metadata": {},
   "outputs": [],
   "source": []
  },
  {
   "cell_type": "code",
   "execution_count": 655,
   "metadata": {},
   "outputs": [
    {
     "data": {
      "text/plain": [
       "0.5282758620689655"
      ]
     },
     "execution_count": 655,
     "metadata": {},
     "output_type": "execute_result"
    }
   ],
   "source": [
    "(198+185)/(166+176+198+185)"
   ]
  },
  {
   "cell_type": "code",
   "execution_count": 646,
   "metadata": {},
   "outputs": [
    {
     "data": {
      "text/plain": [
       "<matplotlib.legend.Legend at 0x7fd52209cdf0>"
      ]
     },
     "execution_count": 646,
     "metadata": {},
     "output_type": "execute_result"
    },
    {
     "data": {
      "image/png": "[encoded data removed]",
      "text/plain": [
       "<Figure size 720x720 with 1 Axes>"
      ]
     },
     "metadata": {
      "needs_background": "light"
     },
     "output_type": "display_data"
    }
   ],
   "source": [
    "PlotM2 = plt.figure(figsize = (10, 10))\n",
    "ax = PlotM2.add_subplot(1, 1, 1)\n",
    "ax.plot(range(0, TestDataY.shape[0]), Model.predict(TestDataX), range(0, TestDataY.shape[0]), TestDataY)\n",
    "ax.set_title('Testing Data')\n",
    "ax.legend([\"Predicted Volatility\",\"Historical Volatility\"])"
   ]
  },
  {
   "cell_type": "code",
   "execution_count": 651,
   "metadata": {},
   "outputs": [
    {
     "data": {
      "image/png": "[encoded data removed]",
      "text/plain": [
       "<Figure size 432x432 with 1 Axes>"
      ]
     },
     "metadata": {
      "needs_background": "light"
     },
     "output_type": "display_data"
    }
   ],
   "source": [
    "Fig, ConfMatrixDf = ConfusionMat(TestDataY, Model.predict(TestDataX))"
   ]
  },
  {
   "cell_type": "code",
   "execution_count": 656,
   "metadata": {},
   "outputs": [
    {
     "data": {
      "text/plain": [
       "0.5698924731182796"
      ]
     },
     "execution_count": 656,
     "metadata": {},
     "output_type": "execute_result"
    }
   ],
   "source": [
    "(17+36)/(17+36+21+19)"
   ]
  },
  {
   "cell_type": "code",
   "execution_count": null,
   "metadata": {},
   "outputs": [],
   "source": []
  },
  {
   "cell_type": "code",
   "execution_count": null,
   "metadata": {},
   "outputs": [],
   "source": []
  },
  {
   "cell_type": "code",
   "execution_count": 270,
   "metadata": {},
   "outputs": [],
   "source": [
    "from tensorflow.keras.models import load_model\n",
    "\n",
    "def saveModel(model, model_path): \n",
    "    try:\n",
    "        os.makedirs(model_path)\n",
    "    except OSError:\n",
    "        print(\"Directory {dir:s} already exists, files will be over-written.\".format(dir=model_path))\n",
    "        \n",
    "    # Save JSON config to disk\n",
    "    json_config = model.to_json()\n",
    "    with open(os.path.join(model_path, 'config.json'), 'w') as json_file:\n",
    "        json_file.write(json_config)\n",
    "    # Save weights to disk\n",
    "    model.save_weights(os.path.join(model_path, 'weights.h5'))\n",
    "    \n",
    "    print(\"Model saved in directory {dir:s}; create an archive of this directory and submit with your assignment.\".format(dir=model_path))\n",
    "    \n",
    "def loadModel(model_path):\n",
    "    # Reload the model from the 2 files we saved\n",
    "    with open(os.path.join(model_path, 'config.json')) as json_file:\n",
    "        json_config = json_file.read()\n",
    "    model = tf.keras.models.model_from_json(json_config)\n",
    "    model.load_weights(os.path.join(model_path, 'weights.h5'))\n",
    "    \n",
    "    return model"
   ]
  },
  {
   "cell_type": "code",
   "execution_count": 571,
   "metadata": {},
   "outputs": [
    {
     "name": "stdout",
     "output_type": "stream",
     "text": [
      "Model saved in directory ./Models/Model4; create an archive of this directory and submit with your assignment.\n"
     ]
    }
   ],
   "source": [
    "modelName = \"Model4\"\n",
    "model_path = os.path.join(\"./Models\", modelName)\n",
    "#saveModel(Model, model_path)"
   ]
  },
  {
   "cell_type": "code",
   "execution_count": 635,
   "metadata": {},
   "outputs": [],
   "source": [
    "#modelTest = loadModel(model_path)"
   ]
  },
  {
   "cell_type": "code",
   "execution_count": 636,
   "metadata": {},
   "outputs": [],
   "source": [
    "#Model = modelTest"
   ]
  },
  {
   "cell_type": "code",
   "execution_count": null,
   "metadata": {},
   "outputs": [],
   "source": []
  }
 ],
 "metadata": {
  "kernelspec": {
   "display_name": "Python 3",
   "language": "python",
   "name": "python3"
  },
  "language_info": {
   "codemirror_mode": {
    "name": "ipython",
    "version": 3
   },
   "file_extension": ".py",
   "mimetype": "text/x-python",
   "name": "python",
   "nbconvert_exporter": "python",
   "pygments_lexer": "ipython3",
   "version": "3.8.3"
  }
 },
 "nbformat": 4,
 "nbformat_minor": 4
}
